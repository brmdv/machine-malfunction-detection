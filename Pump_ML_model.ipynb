{
 "cells": [
  {
   "cell_type": "code",
   "execution_count": 24,
   "id": "cosmetic-penguin",
   "metadata": {},
   "outputs": [],
   "source": [
    "machine_name = \"pump\""
   ]
  },
  {
   "cell_type": "markdown",
   "id": "enormous-advice",
   "metadata": {},
   "source": [
    "# Import Libaries"
   ]
  },
  {
   "cell_type": "code",
   "execution_count": 25,
   "id": "several-voltage",
   "metadata": {},
   "outputs": [],
   "source": [
    "import numpy as np\n",
    "import pandas as pd\n",
    "import pickle\n",
    "import os\n",
    "import shutil\n",
    "import matplotlib.pyplot as plt"
   ]
  },
  {
   "cell_type": "markdown",
   "id": "adjacent-withdrawal",
   "metadata": {},
   "source": [
    "## Create directory management"
   ]
  },
  {
   "cell_type": "code",
   "execution_count": 26,
   "id": "preceding-affect",
   "metadata": {},
   "outputs": [],
   "source": [
    "# If dir not present creatre\n",
    "pickel_dir = \"saved_model\"\n",
    "if not os.path.exists(pickel_dir):\n",
    "    os.makedirs(pickel_dir)"
   ]
  },
  {
   "cell_type": "code",
   "execution_count": 27,
   "id": "covered-model",
   "metadata": {},
   "outputs": [],
   "source": [
    "from sklearn.metrics import classification_report\n",
    "\n",
    "def class_report(y_test, y_pred):\n",
    "    target_names = []\n",
    "    for i in y.unique():\n",
    "        target_names.append(f\"class {i}\")\n",
    "        \n",
    "    try:\n",
    "        y_true = y_test[0].tolist()\n",
    "        \n",
    "    except:\n",
    "        y_true = y_test.tolist()\n",
    "        \n",
    "    y_pred = y_pred.tolist()\n",
    "    print(classification_report(y_true, y_pred, target_names=target_names))"
   ]
  },
  {
   "cell_type": "markdown",
   "id": "daily-scotland",
   "metadata": {},
   "source": [
    "## Funnel feature"
   ]
  },
  {
   "cell_type": "code",
   "execution_count": 28,
   "id": "helpful-installation",
   "metadata": {},
   "outputs": [],
   "source": [
    "important_col =['is_normal', 'T_rms_mean', 'T_rms_std', 'T_zcr_mean',\n",
    "               'F_mel_mean', 'F_mel_std', 'F_mel_rms_mean', 'F_mel_rms_std',\n",
    "               'F_mfcc_mean', 'F_mfcc_std', 'F_flatness_mean',\n",
    "               'F_bandwidth_mean', 'F_bandwidth_std', 'F_contrast_mean',\n",
    "               'F_rolloff_mean', 'F_rolloff_std']\n",
    "\n",
    "dataset = pd.read_csv(f'./dataset/processed_data/{machine_name}_all.csv.xz')\n",
    "dataset = dataset[important_col]"
   ]
  },
  {
   "cell_type": "markdown",
   "id": "becoming-topic",
   "metadata": {},
   "source": [
    "## Split data"
   ]
  },
  {
   "cell_type": "code",
   "execution_count": 29,
   "id": "variable-cholesterol",
   "metadata": {},
   "outputs": [],
   "source": [
    "X = dataset.drop(\"is_normal\", axis=1)\n",
    "y = dataset[\"is_normal\"]\n",
    "\n",
    "from sklearn.model_selection import train_test_split\n",
    "\n",
    "X_model, X_val, y_model, y_val  = train_test_split(X, y, test_size=0.1, random_state=1)"
   ]
  },
  {
   "cell_type": "markdown",
   "id": "binding-union",
   "metadata": {},
   "source": [
    "## Resample over sample"
   ]
  },
  {
   "cell_type": "code",
   "execution_count": 30,
   "id": "similar-launch",
   "metadata": {},
   "outputs": [],
   "source": [
    "from imblearn.over_sampling import BorderlineSMOTE\n",
    "X_resample, y_resample = BorderlineSMOTE().fit_resample(X_model, y_model.ravel())\n",
    "\n",
    "y_resample = pd.DataFrame(y_resample)\n",
    "X_resample = pd.DataFrame(X_resample)\n",
    "\n",
    "from sklearn.model_selection import train_test_split\n",
    "X_train, X_test, y_train, y_test = train_test_split(X_resample, y_resample, test_size=0.2, random_state=1)"
   ]
  },
  {
   "cell_type": "markdown",
   "id": "systematic-privacy",
   "metadata": {},
   "source": [
    "## Random Forest Estimator 100"
   ]
  },
  {
   "cell_type": "code",
   "execution_count": 31,
   "id": "animated-terrorist",
   "metadata": {},
   "outputs": [],
   "source": [
    "import warnings\n",
    "warnings.simplefilter(action='ignore', category=UserWarning)"
   ]
  },
  {
   "cell_type": "code",
   "execution_count": 32,
   "id": "engaged-sucking",
   "metadata": {},
   "outputs": [
    {
     "data": {
      "text/plain": [
       "RandomForestClassifier(criterion='entropy', random_state=0)"
      ]
     },
     "execution_count": 32,
     "metadata": {},
     "output_type": "execute_result"
    }
   ],
   "source": [
    "from sklearn.ensemble import RandomForestClassifier\n",
    "\n",
    "no_estimators = 100\n",
    "\n",
    "RF_classifier = RandomForestClassifier(random_state = 0, n_estimators = no_estimators, criterion = 'entropy')\n",
    "RF_classifier.fit(X_train, y_train.values.ravel())"
   ]
  },
  {
   "cell_type": "code",
   "execution_count": 33,
   "id": "returning-surface",
   "metadata": {
    "scrolled": true
   },
   "outputs": [
    {
     "name": "stdout",
     "output_type": "stream",
     "text": [
      "************************  Test ************************\n",
      "              precision    recall  f1-score   support\n",
      "\n",
      "     class 0       0.96      0.97      0.96      1977\n",
      "     class 1       0.97      0.96      0.97      2073\n",
      "\n",
      "    accuracy                           0.96      4050\n",
      "   macro avg       0.96      0.96      0.96      4050\n",
      "weighted avg       0.96      0.96      0.96      4050\n",
      "\n",
      "************************  Validation ************************\n",
      "              precision    recall  f1-score   support\n",
      "\n",
      "     class 0       0.77      0.79      0.78       140\n",
      "     class 1       0.97      0.97      0.97      1122\n",
      "\n",
      "    accuracy                           0.95      1262\n",
      "   macro avg       0.87      0.88      0.87      1262\n",
      "weighted avg       0.95      0.95      0.95      1262\n",
      "\n"
     ]
    }
   ],
   "source": [
    "from sklearn.metrics import classification_report\n",
    "\n",
    "print(\"************************  Test ************************\")\n",
    "y_pred = RF_classifier.predict(X_test)\n",
    "class_report(y_test, y_pred)\n",
    "\n",
    "print(\"************************  Validation ************************\")\n",
    "y_val_pred = RF_classifier.predict(X_val)\n",
    "class_report(y_val, y_val_pred)"
   ]
  },
  {
   "cell_type": "markdown",
   "id": "fifty-renewal",
   "metadata": {},
   "source": [
    "## Saving Machine model to predict abnormal or normal sound"
   ]
  },
  {
   "cell_type": "code",
   "execution_count": 34,
   "id": "macro-antibody",
   "metadata": {},
   "outputs": [
    {
     "name": "stdout",
     "output_type": "stream",
     "text": [
      "0.95\n"
     ]
    }
   ],
   "source": [
    "filename = f'Predict_{machine_name}_sound_type.sav'\n",
    "pickle.dump(RF_classifier, open(f\"./{pickel_dir}/{filename}\", 'wb'))\n",
    "\n",
    "# load the model from disk\n",
    "loaded_model = pickle.load(open(f\"./{pickel_dir}/{filename}\", 'rb'))\n",
    "result = loaded_model.score(X_val, y_val)\n",
    "print(round(result,2))"
   ]
  },
  {
   "cell_type": "markdown",
   "id": "russian-daisy",
   "metadata": {},
   "source": [
    "# "
   ]
  },
  {
   "cell_type": "markdown",
   "id": "induced-catholic",
   "metadata": {},
   "source": [
    "## K-mean clustering\n",
    "* Sub catogorize abnormal dataset."
   ]
  },
  {
   "cell_type": "markdown",
   "id": "distributed-airplane",
   "metadata": {
    "colab_type": "text",
    "id": "nWC2EWp2Lx5G"
   },
   "source": [
    "## Using the elbow method to find the optimal number of clusters"
   ]
  },
  {
   "cell_type": "code",
   "execution_count": 59,
   "id": "ordinary-peninsula",
   "metadata": {},
   "outputs": [],
   "source": [
    "cluster_dataset = pd.read_csv(f'./dataset/processed_data/{machine_name}_all.csv.xz')\n",
    "cluster_dataset = cluster_dataset[important_col]\n",
    "abnormal_dataset = cluster_dataset[cluster_dataset.is_normal == 0]\n",
    "dataset = abnormal_dataset.drop(columns=[\"is_normal\"])"
   ]
  },
  {
   "cell_type": "code",
   "execution_count": 60,
   "id": "overall-intervention",
   "metadata": {
    "colab": {
     "base_uri": "https://localhost:8080/",
     "height": 295
    },
    "colab_type": "code",
    "executionInfo": {
     "elapsed": 1431,
     "status": "ok",
     "timestamp": 1588239707642,
     "user": {
      "displayName": "Hadelin de Ponteves",
      "photoUrl": "https://lh3.googleusercontent.com/a-/AOh14GhEuXdT7eQweUmRPW8_laJuPggSK6hfvpl5a6WBaA=s64",
      "userId": "15047218817161520419"
     },
     "user_tz": -240
    },
    "id": "zWs6ciOoL1b3",
    "outputId": "bd3740ef-650e-4ae3-da64-821d7df9c7d0",
    "scrolled": true
   },
   "outputs": [
    {
     "data": {
      "image/png": "[encoded data removed]",
      "text/plain": [
       "<Figure size 432x288 with 1 Axes>"
      ]
     },
     "metadata": {
      "needs_background": "light"
     },
     "output_type": "display_data"
    }
   ],
   "source": [
    "from sklearn.cluster import KMeans\n",
    "wcss = []\n",
    "total_test = 20\n",
    "random_S = 0\n",
    "for i in range(1, total_test):\n",
    "    kmeans = KMeans(n_clusters = i, init = 'k-means++', random_state = random_S)\n",
    "    kmeans.fit(dataset)\n",
    "    wcss.append(kmeans.inertia_)\n",
    "plt.plot(range(1, total_test), wcss)\n",
    "plt.title('The Elbow Method')\n",
    "plt.xlabel('Number of clusters')\n",
    "plt.ylabel('WCSS');"
   ]
  },
  {
   "cell_type": "markdown",
   "id": "mounted-whale",
   "metadata": {
    "colab_type": "text",
    "id": "VgT0mANLL4Nz"
   },
   "source": [
    "## Training the K-Means model on the dataset"
   ]
  },
  {
   "cell_type": "code",
   "execution_count": 73,
   "id": "amazing-korea",
   "metadata": {
    "colab": {},
    "colab_type": "code",
    "id": "cjEfU6ZSMAPl"
   },
   "outputs": [],
   "source": [
    "no_cluster = 4\n",
    "kmeans = KMeans(n_clusters = no_cluster, init = 'k-means++', random_state = random_S)\n",
    "y_kmeans = kmeans.fit_predict(dataset)"
   ]
  },
  {
   "cell_type": "markdown",
   "id": "consolidated-mounting",
   "metadata": {},
   "source": [
    "## Placing types of abnormal sound"
   ]
  },
  {
   "cell_type": "code",
   "execution_count": 74,
   "id": "elegant-cardiff",
   "metadata": {
    "scrolled": true
   },
   "outputs": [],
   "source": [
    "abnormal_dataset = abnormal_dataset.drop(columns=[\"is_normal\"])\n",
    "abnormal_dataset[\"is_normal\"] = y_kmeans.tolist()"
   ]
  },
  {
   "cell_type": "code",
   "execution_count": 75,
   "id": "broke-snowboard",
   "metadata": {},
   "outputs": [
    {
     "data": {
      "image/png": "[encoded data removed]",
      "text/plain": [
       "<Figure size 432x288 with 1 Axes>"
      ]
     },
     "metadata": {
      "needs_background": "light"
     },
     "output_type": "display_data"
    }
   ],
   "source": [
    "plt.hist(y_kmeans.tolist(), color='#3F5D7D');"
   ]
  },
  {
   "cell_type": "markdown",
   "id": "cultural-hunter",
   "metadata": {},
   "source": [
    "## Split data"
   ]
  },
  {
   "cell_type": "code",
   "execution_count": 76,
   "id": "employed-admission",
   "metadata": {},
   "outputs": [],
   "source": [
    "X = abnormal_dataset.drop(\"is_normal\", axis=1)\n",
    "y = abnormal_dataset.is_normal\n",
    "\n",
    "from sklearn.model_selection import train_test_split\n",
    "\n",
    "X_model, X_val, y_model, y_val  = train_test_split(X, y, test_size=0.1, random_state=1) # 0.25 x 0.8 = 0.2"
   ]
  },
  {
   "cell_type": "code",
   "execution_count": 77,
   "id": "sublime-fossil",
   "metadata": {},
   "outputs": [
    {
     "name": "stdout",
     "output_type": "stream",
     "text": [
      "(1231, 15)\n",
      "(1231,)\n"
     ]
    }
   ],
   "source": [
    "print(X_model.shape)\n",
    "print(y_model.shape)"
   ]
  },
  {
   "cell_type": "markdown",
   "id": "attached-pension",
   "metadata": {},
   "source": [
    "## Resample over sample"
   ]
  },
  {
   "cell_type": "code",
   "execution_count": 78,
   "id": "focused-constraint",
   "metadata": {},
   "outputs": [],
   "source": [
    "from imblearn.over_sampling import BorderlineSMOTE\n",
    "X_resample, y_resample = BorderlineSMOTE().fit_resample(X_model, y_model.ravel())\n",
    "\n",
    "y_resample = pd.DataFrame(y_resample)\n",
    "X_resample = pd.DataFrame(X_resample)\n",
    "\n",
    "from sklearn.model_selection import train_test_split\n",
    "X_train, X_test, y_train, y_test = train_test_split(X_resample, y_resample, test_size=0.2, random_state=1)"
   ]
  },
  {
   "cell_type": "code",
   "execution_count": 86,
   "id": "annual-darwin",
   "metadata": {
    "scrolled": true
   },
   "outputs": [
    {
     "name": "stdout",
     "output_type": "stream",
     "text": [
      "[2 0 3 1]\n"
     ]
    },
    {
     "data": {
      "image/png": "[encoded data removed]",
      "text/plain": [
       "<Figure size 432x288 with 1 Axes>"
      ]
     },
     "metadata": {
      "needs_background": "light"
     },
     "output_type": "display_data"
    }
   ],
   "source": [
    "print(y_resample[0].unique())\n",
    "plt.hist(y_resample, color='#3F5D7D');"
   ]
  },
  {
   "cell_type": "markdown",
   "id": "rural-bracket",
   "metadata": {},
   "source": [
    "## Random Forest Classifier"
   ]
  },
  {
   "cell_type": "code",
   "execution_count": 80,
   "id": "floating-spare",
   "metadata": {},
   "outputs": [
    {
     "data": {
      "text/plain": [
       "RandomForestClassifier(criterion='entropy', random_state=0)"
      ]
     },
     "execution_count": 80,
     "metadata": {},
     "output_type": "execute_result"
    }
   ],
   "source": [
    "from sklearn.ensemble import RandomForestClassifier\n",
    "\n",
    "no_estimators = 100\n",
    "\n",
    "RF_classifier = RandomForestClassifier(random_state = 0, n_estimators = no_estimators, criterion = 'entropy')\n",
    "RF_classifier.fit(X_train, y_train.values.ravel())"
   ]
  },
  {
   "cell_type": "code",
   "execution_count": 81,
   "id": "first-combination",
   "metadata": {},
   "outputs": [
    {
     "name": "stdout",
     "output_type": "stream",
     "text": [
      "************************  Test ************************\n",
      "              precision    recall  f1-score   support\n",
      "\n",
      "     class 3       0.98      1.00      0.99        53\n",
      "     class 2       0.99      1.00      0.99        94\n",
      "     class 0       1.00      0.99      0.99        80\n",
      "     class 1       1.00      0.99      0.99        93\n",
      "\n",
      "    accuracy                           0.99       320\n",
      "   macro avg       0.99      0.99      0.99       320\n",
      "weighted avg       0.99      0.99      0.99       320\n",
      "\n",
      "************************  Validation ************************\n",
      "              precision    recall  f1-score   support\n",
      "\n",
      "     class 3       1.00      1.00      1.00        29\n",
      "     class 2       0.94      0.75      0.83        20\n",
      "     class 0       1.00      1.00      1.00        53\n",
      "     class 1       0.87      0.97      0.92        35\n",
      "\n",
      "    accuracy                           0.96       137\n",
      "   macro avg       0.95      0.93      0.94       137\n",
      "weighted avg       0.96      0.96      0.95       137\n",
      "\n"
     ]
    }
   ],
   "source": [
    "print(\"************************  Test ************************\")\n",
    "y_pred = RF_classifier.predict(X_test)\n",
    "class_report(y_test, y_pred)\n",
    "\n",
    "print(\"************************  Validation ************************\")\n",
    "y_val_pred = RF_classifier.predict(X_val)\n",
    "class_report(y_val, y_val_pred)"
   ]
  },
  {
   "cell_type": "markdown",
   "id": "confident-story",
   "metadata": {},
   "source": [
    "## Saving Machine model to predict abnormal sound type"
   ]
  },
  {
   "cell_type": "code",
   "execution_count": 83,
   "id": "material-threat",
   "metadata": {},
   "outputs": [
    {
     "name": "stdout",
     "output_type": "stream",
     "text": [
      "0.96\n"
     ]
    }
   ],
   "source": [
    "filename = f'Predict_{machine_name}_abnormal_sound_type.sav'\n",
    "pickle.dump(RF_classifier, open(f\"./{pickel_dir}/{filename}\", 'wb'))\n",
    "\n",
    "# load the model from disk\n",
    "loaded_model = pickle.load(open(f\"./{pickel_dir}/{filename}\", 'rb'))\n",
    "result = loaded_model.score(X_val, y_val)\n",
    "print(round(result,2))"
   ]
  }
 ],
 "metadata": {
  "kernelspec": {
   "display_name": "Python 3",
   "language": "python",
   "name": "python3"
  },
  "language_info": {
   "codemirror_mode": {
    "name": "ipython",
    "version": 3
   },
   "file_extension": ".py",
   "mimetype": "text/x-python",
   "name": "python",
   "nbconvert_exporter": "python",
   "pygments_lexer": "ipython3",
   "version": "3.8.8"
  }
 },
 "nbformat": 4,
 "nbformat_minor": 5
}
