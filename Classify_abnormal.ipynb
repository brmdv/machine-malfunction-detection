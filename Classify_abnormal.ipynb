{
 "cells": [
  {
   "cell_type": "markdown",
   "id": "sharp-thanks",
   "metadata": {},
   "source": [
    "## K-mean clustering\n",
    "* Sub catogorize abnormal dataset."
   ]
  },
  {
   "cell_type": "code",
   "execution_count": 90,
   "id": "limiting-wales",
   "metadata": {},
   "outputs": [],
   "source": [
    "import numpy as np\n",
    "import matplotlib.pyplot as plt\n",
    "import pandas as pd"
   ]
  },
  {
   "cell_type": "markdown",
   "id": "distributed-airplane",
   "metadata": {
    "colab_type": "text",
    "id": "nWC2EWp2Lx5G"
   },
   "source": [
    "## Using the elbow method to find the optimal number of clusters"
   ]
  },
  {
   "cell_type": "code",
   "execution_count": 91,
   "id": "tutorial-monkey",
   "metadata": {},
   "outputs": [],
   "source": [
    "cluster_dataset = pd.read_csv('slider_all.csv.xz')\n",
    "cluster_dataset = cluster_dataset[['is_normal', 'T_rms_mean', 'T_rms_std', 'T_zcr_mean',\n",
    "                       'F_mel_mean', 'F_mel_std', 'F_mel_rms_mean', 'F_mel_rms_std',\n",
    "                       'F_mfcc_mean', 'F_mfcc_std', 'F_flatness_mean',\n",
    "                       'F_bandwidth_mean', 'F_bandwidth_std', 'F_contrast_mean',\n",
    "                       'F_rolloff_mean', 'F_rolloff_std']]"
   ]
  },
  {
   "cell_type": "code",
   "execution_count": 92,
   "id": "dynamic-plenty",
   "metadata": {},
   "outputs": [
    {
     "data": {
      "image/png": "[encoded data removed]",
      "text/plain": [
       "<Figure size 432x288 with 1 Axes>"
      ]
     },
     "metadata": {
      "needs_background": "light"
     },
     "output_type": "display_data"
    }
   ],
   "source": [
    "plt.hist(cluster_dataset.is_normal, color='#3F5D7D');"
   ]
  },
  {
   "cell_type": "code",
   "execution_count": 93,
   "id": "christian-somalia",
   "metadata": {},
   "outputs": [],
   "source": [
    "abnormal_dataset = cluster_dataset[cluster_dataset.is_normal == 0]\n",
    "dataset = abnormal_dataset.drop(columns=[\"is_normal\"])"
   ]
  },
  {
   "cell_type": "code",
   "execution_count": 98,
   "id": "overall-intervention",
   "metadata": {
    "colab": {
     "base_uri": "https://localhost:8080/",
     "height": 295
    },
    "colab_type": "code",
    "executionInfo": {
     "elapsed": 1431,
     "status": "ok",
     "timestamp": 1588239707642,
     "user": {
      "displayName": "Hadelin de Ponteves",
      "photoUrl": "https://lh3.googleusercontent.com/a-/AOh14GhEuXdT7eQweUmRPW8_laJuPggSK6hfvpl5a6WBaA=s64",
      "userId": "15047218817161520419"
     },
     "user_tz": -240
    },
    "id": "zWs6ciOoL1b3",
    "outputId": "bd3740ef-650e-4ae3-da64-821d7df9c7d0",
    "scrolled": true
   },
   "outputs": [
    {
     "data": {
      "image/png": "[encoded data removed]",
      "text/plain": [
       "<Figure size 432x288 with 1 Axes>"
      ]
     },
     "metadata": {
      "needs_background": "light"
     },
     "output_type": "display_data"
    }
   ],
   "source": [
    "from sklearn.cluster import KMeans\n",
    "wcss = []\n",
    "total_test = 20\n",
    "for i in range(1, total_test):\n",
    "    kmeans = KMeans(n_clusters = i, init = 'k-means++', random_state = 42)\n",
    "    kmeans.fit(dataset)\n",
    "    wcss.append(kmeans.inertia_)\n",
    "plt.plot(range(1, total_test), wcss)\n",
    "plt.title('The Elbow Method')\n",
    "plt.xlabel('Number of clusters')\n",
    "plt.ylabel('WCSS');"
   ]
  },
  {
   "cell_type": "markdown",
   "id": "mounted-whale",
   "metadata": {
    "colab_type": "text",
    "id": "VgT0mANLL4Nz"
   },
   "source": [
    "## Training the K-Means model on the dataset"
   ]
  },
  {
   "cell_type": "code",
   "execution_count": 99,
   "id": "amazing-korea",
   "metadata": {
    "colab": {},
    "colab_type": "code",
    "id": "cjEfU6ZSMAPl"
   },
   "outputs": [],
   "source": [
    "no_cluster = 5\n",
    "kmeans = KMeans(n_clusters = no_cluster, init = 'k-means++', random_state = 42)\n",
    "y_kmeans = kmeans.fit_predict(dataset)"
   ]
  },
  {
   "cell_type": "markdown",
   "id": "painful-accident",
   "metadata": {
    "colab_type": "text",
    "id": "e7YrS1JAMFnm"
   },
   "source": [
    "## Change to 2 dimention for ploting"
   ]
  },
  {
   "cell_type": "code",
   "execution_count": 100,
   "id": "piano-skill",
   "metadata": {},
   "outputs": [],
   "source": [
    "from sklearn.decomposition import KernelPCA\n",
    "kpca = KernelPCA(n_components = 2, kernel = 'rbf')   # we can use kerenal to improve the perfomance\n",
    "test_dataset = kpca.fit_transform(dataset)"
   ]
  },
  {
   "cell_type": "markdown",
   "id": "productive-spending",
   "metadata": {
    "colab_type": "text",
    "id": "e7YrS1JAMFnm"
   },
   "source": [
    "## Visualising the clusters"
   ]
  },
  {
   "cell_type": "code",
   "execution_count": 101,
   "id": "impressed-deployment",
   "metadata": {
    "colab": {
     "base_uri": "https://localhost:8080/",
     "height": 295
    },
    "colab_type": "code",
    "executionInfo": {
     "elapsed": 1085,
     "status": "ok",
     "timestamp": 1588239716139,
     "user": {
      "displayName": "Hadelin de Ponteves",
      "photoUrl": "https://lh3.googleusercontent.com/a-/AOh14GhEuXdT7eQweUmRPW8_laJuPggSK6hfvpl5a6WBaA=s64",
      "userId": "15047218817161520419"
     },
     "user_tz": -240
    },
    "id": "d0ZYecccMHNx",
    "outputId": "2db95eb9-0c99-4718-f28c-1d3155258041",
    "scrolled": false
   },
   "outputs": [
    {
     "data": {
      "image/png": "[encoded data removed]",
      "text/plain": [
       "<Figure size 432x288 with 1 Axes>"
      ]
     },
     "metadata": {
      "needs_background": "light"
     },
     "output_type": "display_data"
    }
   ],
   "source": [
    "for i in range(no_cluster):\n",
    "    plt.scatter(test_dataset[y_kmeans == i , 0] , test_dataset[y_kmeans == i , 1],  label = i)\n",
    "    \n",
    "plt.title('title')\n",
    "plt.xlabel('X_lable')\n",
    "plt.ylabel('y_lable')\n",
    "plt.legend();"
   ]
  },
  {
   "cell_type": "code",
   "execution_count": 102,
   "id": "elegant-cardiff",
   "metadata": {
    "scrolled": true
   },
   "outputs": [],
   "source": [
    "abnormal_dataset = abnormal_dataset.drop(columns=[\"is_normal\"])\n",
    "abnormal_dataset[\"Target\"] = y_kmeans.tolist()"
   ]
  },
  {
   "cell_type": "code",
   "execution_count": 103,
   "id": "cathedral-recipe",
   "metadata": {},
   "outputs": [
    {
     "name": "stdout",
     "output_type": "stream",
     "text": [
      "0 :  (595, 16)\n",
      "1 :  (449, 16)\n",
      "2 :  (230, 16)\n",
      "3 :  (698, 16)\n",
      "4 :  (698, 16)\n"
     ]
    }
   ],
   "source": [
    "for i in range(no_cluster):\n",
    "    print(i,\": \",abnormal_dataset[abnormal_dataset.Target == i].shape)"
   ]
  },
  {
   "cell_type": "code",
   "execution_count": 104,
   "id": "adequate-feelings",
   "metadata": {},
   "outputs": [
    {
     "data": {
      "text/html": [
       "<div>\n",
       "<style scoped>\n",
       "    .dataframe tbody tr th:only-of-type {\n",
       "        vertical-align: middle;\n",
       "    }\n",
       "\n",
       "    .dataframe tbody tr th {\n",
       "        vertical-align: top;\n",
       "    }\n",
       "\n",
       "    .dataframe thead th {\n",
       "        text-align: right;\n",
       "    }\n",
       "</style>\n",
       "<table border=\"1\" class=\"dataframe\">\n",
       "  <thead>\n",
       "    <tr style=\"text-align: right;\">\n",
       "      <th></th>\n",
       "      <th>T_rms_mean</th>\n",
       "      <th>T_rms_std</th>\n",
       "      <th>T_zcr_mean</th>\n",
       "      <th>F_mel_mean</th>\n",
       "      <th>F_mel_std</th>\n",
       "      <th>F_mel_rms_mean</th>\n",
       "      <th>F_mel_rms_std</th>\n",
       "      <th>F_mfcc_mean</th>\n",
       "      <th>F_mfcc_std</th>\n",
       "      <th>F_flatness_mean</th>\n",
       "      <th>F_bandwidth_mean</th>\n",
       "      <th>F_bandwidth_std</th>\n",
       "      <th>F_contrast_mean</th>\n",
       "      <th>F_rolloff_mean</th>\n",
       "      <th>F_rolloff_std</th>\n",
       "      <th>Target</th>\n",
       "    </tr>\n",
       "  </thead>\n",
       "  <tbody>\n",
       "    <tr>\n",
       "      <th>0</th>\n",
       "      <td>0.007860</td>\n",
       "      <td>0.002074</td>\n",
       "      <td>0.102903</td>\n",
       "      <td>0.019743</td>\n",
       "      <td>0.031406</td>\n",
       "      <td>0.004779</td>\n",
       "      <td>0.001395</td>\n",
       "      <td>0.802281</td>\n",
       "      <td>0.713340</td>\n",
       "      <td>0.053673</td>\n",
       "      <td>2167.104576</td>\n",
       "      <td>229.808004</td>\n",
       "      <td>16.586721</td>\n",
       "      <td>4715.355431</td>\n",
       "      <td>904.356103</td>\n",
       "      <td>4</td>\n",
       "    </tr>\n",
       "    <tr>\n",
       "      <th>1</th>\n",
       "      <td>0.008078</td>\n",
       "      <td>0.002118</td>\n",
       "      <td>0.099854</td>\n",
       "      <td>0.021287</td>\n",
       "      <td>0.032543</td>\n",
       "      <td>0.004913</td>\n",
       "      <td>0.001418</td>\n",
       "      <td>0.792222</td>\n",
       "      <td>0.819079</td>\n",
       "      <td>0.050359</td>\n",
       "      <td>2075.277426</td>\n",
       "      <td>331.266060</td>\n",
       "      <td>16.140419</td>\n",
       "      <td>4427.216454</td>\n",
       "      <td>1135.671097</td>\n",
       "      <td>1</td>\n",
       "    </tr>\n",
       "    <tr>\n",
       "      <th>2</th>\n",
       "      <td>0.008086</td>\n",
       "      <td>0.002081</td>\n",
       "      <td>0.097779</td>\n",
       "      <td>0.021716</td>\n",
       "      <td>0.032256</td>\n",
       "      <td>0.004922</td>\n",
       "      <td>0.001387</td>\n",
       "      <td>0.754520</td>\n",
       "      <td>0.851026</td>\n",
       "      <td>0.048603</td>\n",
       "      <td>2035.549836</td>\n",
       "      <td>383.531527</td>\n",
       "      <td>16.244304</td>\n",
       "      <td>4330.945487</td>\n",
       "      <td>1236.717933</td>\n",
       "      <td>1</td>\n",
       "    </tr>\n",
       "    <tr>\n",
       "      <th>3</th>\n",
       "      <td>0.007584</td>\n",
       "      <td>0.002217</td>\n",
       "      <td>0.115414</td>\n",
       "      <td>0.020680</td>\n",
       "      <td>0.029519</td>\n",
       "      <td>0.004609</td>\n",
       "      <td>0.001474</td>\n",
       "      <td>0.671063</td>\n",
       "      <td>0.801823</td>\n",
       "      <td>0.068693</td>\n",
       "      <td>2124.175475</td>\n",
       "      <td>222.712141</td>\n",
       "      <td>15.834551</td>\n",
       "      <td>4717.976238</td>\n",
       "      <td>804.476273</td>\n",
       "      <td>4</td>\n",
       "    </tr>\n",
       "    <tr>\n",
       "      <th>4</th>\n",
       "      <td>0.007901</td>\n",
       "      <td>0.002068</td>\n",
       "      <td>0.106082</td>\n",
       "      <td>0.020375</td>\n",
       "      <td>0.031433</td>\n",
       "      <td>0.004804</td>\n",
       "      <td>0.001385</td>\n",
       "      <td>0.803645</td>\n",
       "      <td>0.741051</td>\n",
       "      <td>0.056124</td>\n",
       "      <td>2163.299179</td>\n",
       "      <td>224.286498</td>\n",
       "      <td>16.325567</td>\n",
       "      <td>4720.746805</td>\n",
       "      <td>883.855629</td>\n",
       "      <td>4</td>\n",
       "    </tr>\n",
       "    <tr>\n",
       "      <th>...</th>\n",
       "      <td>...</td>\n",
       "      <td>...</td>\n",
       "      <td>...</td>\n",
       "      <td>...</td>\n",
       "      <td>...</td>\n",
       "      <td>...</td>\n",
       "      <td>...</td>\n",
       "      <td>...</td>\n",
       "      <td>...</td>\n",
       "      <td>...</td>\n",
       "      <td>...</td>\n",
       "      <td>...</td>\n",
       "      <td>...</td>\n",
       "      <td>...</td>\n",
       "      <td>...</td>\n",
       "      <td>...</td>\n",
       "    </tr>\n",
       "    <tr>\n",
       "      <th>11743</th>\n",
       "      <td>0.004244</td>\n",
       "      <td>0.001999</td>\n",
       "      <td>0.084571</td>\n",
       "      <td>0.011615</td>\n",
       "      <td>0.021015</td>\n",
       "      <td>0.002568</td>\n",
       "      <td>0.001290</td>\n",
       "      <td>0.404212</td>\n",
       "      <td>0.591781</td>\n",
       "      <td>0.031840</td>\n",
       "      <td>1926.669120</td>\n",
       "      <td>316.946529</td>\n",
       "      <td>15.096742</td>\n",
       "      <td>3475.289537</td>\n",
       "      <td>1357.811852</td>\n",
       "      <td>0</td>\n",
       "    </tr>\n",
       "    <tr>\n",
       "      <th>11744</th>\n",
       "      <td>0.004025</td>\n",
       "      <td>0.001909</td>\n",
       "      <td>0.087065</td>\n",
       "      <td>0.011610</td>\n",
       "      <td>0.019867</td>\n",
       "      <td>0.002428</td>\n",
       "      <td>0.001243</td>\n",
       "      <td>0.375602</td>\n",
       "      <td>0.584723</td>\n",
       "      <td>0.030875</td>\n",
       "      <td>1835.228018</td>\n",
       "      <td>329.026106</td>\n",
       "      <td>14.737689</td>\n",
       "      <td>3184.255192</td>\n",
       "      <td>1332.617555</td>\n",
       "      <td>0</td>\n",
       "    </tr>\n",
       "    <tr>\n",
       "      <th>11745</th>\n",
       "      <td>0.004038</td>\n",
       "      <td>0.001959</td>\n",
       "      <td>0.084655</td>\n",
       "      <td>0.011643</td>\n",
       "      <td>0.020219</td>\n",
       "      <td>0.002436</td>\n",
       "      <td>0.001272</td>\n",
       "      <td>0.374538</td>\n",
       "      <td>0.587959</td>\n",
       "      <td>0.028881</td>\n",
       "      <td>1833.959663</td>\n",
       "      <td>320.134617</td>\n",
       "      <td>14.932735</td>\n",
       "      <td>3147.863419</td>\n",
       "      <td>1302.120388</td>\n",
       "      <td>0</td>\n",
       "    </tr>\n",
       "    <tr>\n",
       "      <th>11746</th>\n",
       "      <td>0.003980</td>\n",
       "      <td>0.002138</td>\n",
       "      <td>0.160599</td>\n",
       "      <td>0.012456</td>\n",
       "      <td>0.019225</td>\n",
       "      <td>0.002403</td>\n",
       "      <td>0.001372</td>\n",
       "      <td>0.283731</td>\n",
       "      <td>0.634960</td>\n",
       "      <td>0.103900</td>\n",
       "      <td>2175.607523</td>\n",
       "      <td>172.520212</td>\n",
       "      <td>14.440473</td>\n",
       "      <td>4950.179712</td>\n",
       "      <td>641.331941</td>\n",
       "      <td>4</td>\n",
       "    </tr>\n",
       "    <tr>\n",
       "      <th>11747</th>\n",
       "      <td>0.003761</td>\n",
       "      <td>0.002000</td>\n",
       "      <td>0.111748</td>\n",
       "      <td>0.011158</td>\n",
       "      <td>0.019265</td>\n",
       "      <td>0.002254</td>\n",
       "      <td>0.001313</td>\n",
       "      <td>0.328243</td>\n",
       "      <td>0.557722</td>\n",
       "      <td>0.056748</td>\n",
       "      <td>2053.216155</td>\n",
       "      <td>128.495917</td>\n",
       "      <td>14.360560</td>\n",
       "      <td>4215.030950</td>\n",
       "      <td>526.569201</td>\n",
       "      <td>3</td>\n",
       "    </tr>\n",
       "  </tbody>\n",
       "</table>\n",
       "<p>2670 rows × 16 columns</p>\n",
       "</div>"
      ],
      "text/plain": [
       "       T_rms_mean  T_rms_std  T_zcr_mean  F_mel_mean  F_mel_std  \\\n",
       "0        0.007860   0.002074    0.102903    0.019743   0.031406   \n",
       "1        0.008078   0.002118    0.099854    0.021287   0.032543   \n",
       "2        0.008086   0.002081    0.097779    0.021716   0.032256   \n",
       "3        0.007584   0.002217    0.115414    0.020680   0.029519   \n",
       "4        0.007901   0.002068    0.106082    0.020375   0.031433   \n",
       "...           ...        ...         ...         ...        ...   \n",
       "11743    0.004244   0.001999    0.084571    0.011615   0.021015   \n",
       "11744    0.004025   0.001909    0.087065    0.011610   0.019867   \n",
       "11745    0.004038   0.001959    0.084655    0.011643   0.020219   \n",
       "11746    0.003980   0.002138    0.160599    0.012456   0.019225   \n",
       "11747    0.003761   0.002000    0.111748    0.011158   0.019265   \n",
       "\n",
       "       F_mel_rms_mean  F_mel_rms_std  F_mfcc_mean  F_mfcc_std  \\\n",
       "0            0.004779       0.001395     0.802281    0.713340   \n",
       "1            0.004913       0.001418     0.792222    0.819079   \n",
       "2            0.004922       0.001387     0.754520    0.851026   \n",
       "3            0.004609       0.001474     0.671063    0.801823   \n",
       "4            0.004804       0.001385     0.803645    0.741051   \n",
       "...               ...            ...          ...         ...   \n",
       "11743        0.002568       0.001290     0.404212    0.591781   \n",
       "11744        0.002428       0.001243     0.375602    0.584723   \n",
       "11745        0.002436       0.001272     0.374538    0.587959   \n",
       "11746        0.002403       0.001372     0.283731    0.634960   \n",
       "11747        0.002254       0.001313     0.328243    0.557722   \n",
       "\n",
       "       F_flatness_mean  F_bandwidth_mean  F_bandwidth_std  F_contrast_mean  \\\n",
       "0             0.053673       2167.104576       229.808004        16.586721   \n",
       "1             0.050359       2075.277426       331.266060        16.140419   \n",
       "2             0.048603       2035.549836       383.531527        16.244304   \n",
       "3             0.068693       2124.175475       222.712141        15.834551   \n",
       "4             0.056124       2163.299179       224.286498        16.325567   \n",
       "...                ...               ...              ...              ...   \n",
       "11743         0.031840       1926.669120       316.946529        15.096742   \n",
       "11744         0.030875       1835.228018       329.026106        14.737689   \n",
       "11745         0.028881       1833.959663       320.134617        14.932735   \n",
       "11746         0.103900       2175.607523       172.520212        14.440473   \n",
       "11747         0.056748       2053.216155       128.495917        14.360560   \n",
       "\n",
       "       F_rolloff_mean  F_rolloff_std  Target  \n",
       "0         4715.355431     904.356103       4  \n",
       "1         4427.216454    1135.671097       1  \n",
       "2         4330.945487    1236.717933       1  \n",
       "3         4717.976238     804.476273       4  \n",
       "4         4720.746805     883.855629       4  \n",
       "...               ...            ...     ...  \n",
       "11743     3475.289537    1357.811852       0  \n",
       "11744     3184.255192    1332.617555       0  \n",
       "11745     3147.863419    1302.120388       0  \n",
       "11746     4950.179712     641.331941       4  \n",
       "11747     4215.030950     526.569201       3  \n",
       "\n",
       "[2670 rows x 16 columns]"
      ]
     },
     "execution_count": 104,
     "metadata": {},
     "output_type": "execute_result"
    }
   ],
   "source": [
    "abnormal_dataset"
   ]
  },
  {
   "cell_type": "code",
   "execution_count": null,
   "id": "soviet-cologne",
   "metadata": {},
   "outputs": [],
   "source": []
  }
 ],
 "metadata": {
  "kernelspec": {
   "display_name": "Python 3",
   "language": "python",
   "name": "python3"
  },
  "language_info": {
   "codemirror_mode": {
    "name": "ipython",
    "version": 3
   },
   "file_extension": ".py",
   "mimetype": "text/x-python",
   "name": "python",
   "nbconvert_exporter": "python",
   "pygments_lexer": "ipython3",
   "version": "3.8.8"
  }
 },
 "nbformat": 4,
 "nbformat_minor": 5
}
