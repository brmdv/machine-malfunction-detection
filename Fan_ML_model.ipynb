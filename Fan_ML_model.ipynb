{
 "cells": [
  {
   "cell_type": "code",
   "execution_count": 1,
   "id": "answering-oxygen",
   "metadata": {},
   "outputs": [],
   "source": [
    "machine_name = \"fan\""
   ]
  },
  {
   "cell_type": "markdown",
   "id": "enormous-advice",
   "metadata": {},
   "source": [
    "# Import Libaries"
   ]
  },
  {
   "cell_type": "code",
   "execution_count": 2,
   "id": "several-voltage",
   "metadata": {},
   "outputs": [],
   "source": [
    "import numpy as np\n",
    "import pandas as pd\n",
    "import pickle\n",
    "import os\n",
    "import shutil\n",
    "import matplotlib.pyplot as plt"
   ]
  },
  {
   "cell_type": "markdown",
   "id": "adjacent-withdrawal",
   "metadata": {},
   "source": [
    "## Create directory management"
   ]
  },
  {
   "cell_type": "code",
   "execution_count": 3,
   "id": "preceding-affect",
   "metadata": {},
   "outputs": [],
   "source": [
    "# If dir not present creatre\n",
    "pickel_dir = \"saved_model\"\n",
    "if not os.path.exists(pickel_dir):\n",
    "    os.makedirs(pickel_dir)"
   ]
  },
  {
   "cell_type": "code",
   "execution_count": 4,
   "id": "covered-model",
   "metadata": {},
   "outputs": [],
   "source": [
    "from sklearn.metrics import classification_report\n",
    "\n",
    "def class_report(y_test, y_pred):\n",
    "    target_names = []\n",
    "    for i in y.unique():\n",
    "        target_names.append(f\"class {i}\")\n",
    "        \n",
    "    try:\n",
    "        y_true = y_test[0].tolist()\n",
    "        \n",
    "    except:\n",
    "        y_true = y_test.tolist()\n",
    "        \n",
    "    y_pred = y_pred.tolist()\n",
    "    print(classification_report(y_true, y_pred, target_names=target_names))"
   ]
  },
  {
   "cell_type": "markdown",
   "id": "daily-scotland",
   "metadata": {},
   "source": [
    "## Funnel feature"
   ]
  },
  {
   "cell_type": "code",
   "execution_count": 6,
   "id": "helpful-installation",
   "metadata": {},
   "outputs": [],
   "source": [
    "important_col =['is_normal', 'T_rms_mean', 'T_rms_std', 'T_zcr_mean',\n",
    "                       'F_mel_mean', 'F_mel_std', 'F_mel_rms_mean', 'F_mel_rms_std',\n",
    "                       'F_mfcc_mean', 'F_mfcc_std', 'F_flatness_mean',\n",
    "                       'F_bandwidth_mean', 'F_bandwidth_std', 'F_contrast_mean',\n",
    "                       'F_rolloff_mean', 'F_rolloff_std']\n",
    "\n",
    "dataset = pd.read_csv(f'./dataset/processed_data/{machine_name}_all.csv.xz')\n",
    "dataset = dataset[important_col]"
   ]
  },
  {
   "cell_type": "markdown",
   "id": "becoming-topic",
   "metadata": {},
   "source": [
    "## Split data"
   ]
  },
  {
   "cell_type": "code",
   "execution_count": 7,
   "id": "variable-cholesterol",
   "metadata": {},
   "outputs": [],
   "source": [
    "X = dataset.drop(\"is_normal\", axis=1)\n",
    "y = dataset[\"is_normal\"]\n",
    "\n",
    "from sklearn.model_selection import train_test_split\n",
    "\n",
    "X_model, X_val, y_model, y_val  = train_test_split(X, y, test_size=0.1, random_state=1)"
   ]
  },
  {
   "cell_type": "markdown",
   "id": "binding-union",
   "metadata": {},
   "source": [
    "## Resample over sample"
   ]
  },
  {
   "cell_type": "code",
   "execution_count": 8,
   "id": "similar-launch",
   "metadata": {},
   "outputs": [],
   "source": [
    "from imblearn.over_sampling import BorderlineSMOTE\n",
    "X_resample, y_resample = BorderlineSMOTE().fit_resample(X_model, y_model.ravel())\n",
    "\n",
    "y_resample = pd.DataFrame(y_resample)\n",
    "X_resample = pd.DataFrame(X_resample)\n",
    "\n",
    "from sklearn.model_selection import train_test_split\n",
    "X_train, X_test, y_train, y_test = train_test_split(X_resample, y_resample, test_size=0.2, random_state=1)"
   ]
  },
  {
   "cell_type": "markdown",
   "id": "systematic-privacy",
   "metadata": {},
   "source": [
    "## Random Forest Estimator 100"
   ]
  },
  {
   "cell_type": "code",
   "execution_count": 9,
   "id": "animated-terrorist",
   "metadata": {},
   "outputs": [],
   "source": [
    "import warnings\n",
    "warnings.simplefilter(action='ignore', category=UserWarning)"
   ]
  },
  {
   "cell_type": "code",
   "execution_count": 10,
   "id": "engaged-sucking",
   "metadata": {},
   "outputs": [
    {
     "data": {
      "text/plain": [
       "RandomForestClassifier(criterion='entropy', random_state=0)"
      ]
     },
     "execution_count": 10,
     "metadata": {},
     "output_type": "execute_result"
    }
   ],
   "source": [
    "from sklearn.ensemble import RandomForestClassifier\n",
    "\n",
    "no_estimators = 100\n",
    "\n",
    "RF_classifier = RandomForestClassifier(random_state = 0, n_estimators = no_estimators, criterion = 'entropy')\n",
    "RF_classifier.fit(X_train, y_train.values.ravel())"
   ]
  },
  {
   "cell_type": "code",
   "execution_count": 11,
   "id": "returning-surface",
   "metadata": {
    "scrolled": false
   },
   "outputs": [
    {
     "name": "stdout",
     "output_type": "stream",
     "text": [
      "************************  Test ************************\n",
      "              precision    recall  f1-score   support\n",
      "\n",
      "     class 0       0.93      0.94      0.94      2198\n",
      "     class 1       0.94      0.93      0.94      2203\n",
      "\n",
      "    accuracy                           0.94      4401\n",
      "   macro avg       0.94      0.94      0.94      4401\n",
      "weighted avg       0.94      0.94      0.94      4401\n",
      "\n",
      "************************  Validation ************************\n",
      "              precision    recall  f1-score   support\n",
      "\n",
      "     class 0       0.85      0.89      0.87       441\n",
      "     class 1       0.96      0.94      0.95      1224\n",
      "\n",
      "    accuracy                           0.93      1665\n",
      "   macro avg       0.90      0.92      0.91      1665\n",
      "weighted avg       0.93      0.93      0.93      1665\n",
      "\n"
     ]
    }
   ],
   "source": [
    "from sklearn.metrics import classification_report\n",
    "\n",
    "print(\"************************  Test ************************\")\n",
    "y_pred = RF_classifier.predict(X_test)\n",
    "class_report(y_test, y_pred)\n",
    "\n",
    "print(\"************************  Validation ************************\")\n",
    "y_valid_pred = RF_classifier.predict(X_val)\n",
    "class_report(y_val, y_valid_pred)"
   ]
  },
  {
   "cell_type": "markdown",
   "id": "fifty-renewal",
   "metadata": {},
   "source": [
    "## Saving Machine model to predict abnormal or normal sound"
   ]
  },
  {
   "cell_type": "code",
   "execution_count": 12,
   "id": "macro-antibody",
   "metadata": {},
   "outputs": [
    {
     "name": "stdout",
     "output_type": "stream",
     "text": [
      "0.93\n"
     ]
    }
   ],
   "source": [
    "filename = f'Predict_{machine_name}_sound_type.sav'\n",
    "pickle.dump(RF_classifier, open(f\"./{pickel_dir}/{filename}\", 'wb'))\n",
    "\n",
    "# load the model from disk\n",
    "loaded_model = pickle.load(open(f\"./{pickel_dir}/{filename}\", 'rb'))\n",
    "result = loaded_model.score(X_val, y_val)\n",
    "print(round(result,2))"
   ]
  },
  {
   "cell_type": "markdown",
   "id": "russian-daisy",
   "metadata": {},
   "source": [
    "# "
   ]
  },
  {
   "cell_type": "markdown",
   "id": "induced-catholic",
   "metadata": {},
   "source": [
    "## K-mean clustering\n",
    "* Sub catogorize abnormal dataset."
   ]
  },
  {
   "cell_type": "markdown",
   "id": "distributed-airplane",
   "metadata": {
    "colab_type": "text",
    "id": "nWC2EWp2Lx5G"
   },
   "source": [
    "## Using the elbow method to find the optimal number of clusters"
   ]
  },
  {
   "cell_type": "code",
   "execution_count": 13,
   "id": "ordinary-peninsula",
   "metadata": {},
   "outputs": [],
   "source": [
    "cluster_dataset = pd.read_csv(f'./dataset/processed_data/{machine_name}_all.csv.xz')\n",
    "cluster_dataset = cluster_dataset[important_col]\n",
    "abnormal_dataset = cluster_dataset[cluster_dataset.is_normal == 0]\n",
    "dataset = abnormal_dataset.drop(columns=[\"is_normal\"])"
   ]
  },
  {
   "cell_type": "code",
   "execution_count": 14,
   "id": "overall-intervention",
   "metadata": {
    "colab": {
     "base_uri": "https://localhost:8080/",
     "height": 295
    },
    "colab_type": "code",
    "executionInfo": {
     "elapsed": 1431,
     "status": "ok",
     "timestamp": 1588239707642,
     "user": {
      "displayName": "Hadelin de Ponteves",
      "photoUrl": "https://lh3.googleusercontent.com/a-/AOh14GhEuXdT7eQweUmRPW8_laJuPggSK6hfvpl5a6WBaA=s64",
      "userId": "15047218817161520419"
     },
     "user_tz": -240
    },
    "id": "zWs6ciOoL1b3",
    "outputId": "bd3740ef-650e-4ae3-da64-821d7df9c7d0",
    "scrolled": true
   },
   "outputs": [
    {
     "data": {
      "image/png": "[encoded data removed]",
      "text/plain": [
       "<Figure size 432x288 with 1 Axes>"
      ]
     },
     "metadata": {
      "needs_background": "light"
     },
     "output_type": "display_data"
    }
   ],
   "source": [
    "from sklearn.cluster import KMeans\n",
    "wcss = []\n",
    "random_S = 0\n",
    "total_test = 20\n",
    "for i in range(1, total_test):\n",
    "    kmeans = KMeans(n_clusters = i, init = 'k-means++', random_state = random_S)\n",
    "    kmeans.fit(dataset)\n",
    "    wcss.append(kmeans.inertia_)\n",
    "plt.plot(range(1, total_test), wcss)\n",
    "plt.title('The Elbow Method')\n",
    "plt.xlabel('Number of clusters')\n",
    "plt.ylabel('WCSS');"
   ]
  },
  {
   "cell_type": "markdown",
   "id": "mounted-whale",
   "metadata": {
    "colab_type": "text",
    "id": "VgT0mANLL4Nz"
   },
   "source": [
    "## Training the K-Means model on the dataset"
   ]
  },
  {
   "cell_type": "code",
   "execution_count": 15,
   "id": "amazing-korea",
   "metadata": {
    "colab": {},
    "colab_type": "code",
    "id": "cjEfU6ZSMAPl"
   },
   "outputs": [],
   "source": [
    "no_cluster = 4\n",
    "kmeans = KMeans(n_clusters = no_cluster, init = 'k-means++', random_state = random_S)\n",
    "y_kmeans = kmeans.fit_predict(dataset)"
   ]
  },
  {
   "cell_type": "markdown",
   "id": "consolidated-mounting",
   "metadata": {},
   "source": [
    "## Placing types of abnormal sound"
   ]
  },
  {
   "cell_type": "code",
   "execution_count": 16,
   "id": "elegant-cardiff",
   "metadata": {
    "scrolled": true
   },
   "outputs": [],
   "source": [
    "abnormal_dataset = abnormal_dataset.drop(columns=[\"is_normal\"])\n",
    "abnormal_dataset[\"is_normal\"] = y_kmeans.tolist()"
   ]
  },
  {
   "cell_type": "code",
   "execution_count": 17,
   "id": "broke-snowboard",
   "metadata": {},
   "outputs": [
    {
     "data": {
      "image/png": "[encoded data removed]",
      "text/plain": [
       "<Figure size 432x288 with 1 Axes>"
      ]
     },
     "metadata": {
      "needs_background": "light"
     },
     "output_type": "display_data"
    }
   ],
   "source": [
    "plt.hist(abnormal_dataset.is_normal, color='#3F5D7D');"
   ]
  },
  {
   "cell_type": "markdown",
   "id": "cultural-hunter",
   "metadata": {},
   "source": [
    "## Split data"
   ]
  },
  {
   "cell_type": "code",
   "execution_count": 18,
   "id": "employed-admission",
   "metadata": {},
   "outputs": [],
   "source": [
    "X = abnormal_dataset.drop(\"is_normal\", axis=1)\n",
    "y = abnormal_dataset.is_normal\n",
    "\n",
    "from sklearn.model_selection import train_test_split\n",
    "\n",
    "X_model, X_val, y_model, y_val  = train_test_split(X, y, test_size=0.1, random_state=1) # 0.25 x 0.8 = 0.2"
   ]
  },
  {
   "cell_type": "code",
   "execution_count": 19,
   "id": "sublime-fossil",
   "metadata": {},
   "outputs": [
    {
     "name": "stdout",
     "output_type": "stream",
     "text": [
      "(3982, 15)\n",
      "(3982,)\n"
     ]
    }
   ],
   "source": [
    "print(X_model.shape)\n",
    "print(y_model.shape)"
   ]
  },
  {
   "cell_type": "markdown",
   "id": "attached-pension",
   "metadata": {},
   "source": [
    "## Resample over sample"
   ]
  },
  {
   "cell_type": "code",
   "execution_count": 20,
   "id": "focused-constraint",
   "metadata": {},
   "outputs": [],
   "source": [
    "from imblearn.over_sampling import BorderlineSMOTE\n",
    "X_resample, y_resample = BorderlineSMOTE().fit_resample(X_model, y_model.ravel())\n",
    "\n",
    "y_resample = pd.DataFrame(y_resample)\n",
    "X_resample = pd.DataFrame(X_resample)\n",
    "\n",
    "from sklearn.model_selection import train_test_split\n",
    "X_train, X_test, y_train, y_test = train_test_split(X_resample, y_resample, test_size=0.2, random_state=1)"
   ]
  },
  {
   "cell_type": "code",
   "execution_count": 21,
   "id": "annual-darwin",
   "metadata": {
    "scrolled": true
   },
   "outputs": [
    {
     "name": "stdout",
     "output_type": "stream",
     "text": [
      "[1 0 2 3]\n"
     ]
    },
    {
     "data": {
      "image/png": "[encoded data removed]",
      "text/plain": [
       "<Figure size 432x288 with 1 Axes>"
      ]
     },
     "metadata": {
      "needs_background": "light"
     },
     "output_type": "display_data"
    }
   ],
   "source": [
    "print(y_resample[0].unique())\n",
    "plt.hist(y_resample, color='#3F5D7D');"
   ]
  },
  {
   "cell_type": "markdown",
   "id": "rural-bracket",
   "metadata": {},
   "source": [
    "## XGBoost Classifier"
   ]
  },
  {
   "cell_type": "code",
   "execution_count": 22,
   "id": "accompanied-portrait",
   "metadata": {},
   "outputs": [
    {
     "name": "stdout",
     "output_type": "stream",
     "text": [
      "[10:20:46] WARNING: ..\\src\\learner.cc:1061: Starting in XGBoost 1.3.0, the default evaluation metric used with the objective 'multi:softprob' was changed from 'merror' to 'mlogloss'. Explicitly set eval_metric if you'd like to restore the old behavior.\n"
     ]
    },
    {
     "data": {
      "text/plain": [
       "XGBClassifier(base_score=0.5, booster='gbtree', colsample_bylevel=1,\n",
       "              colsample_bynode=1, colsample_bytree=1, gamma=0, gpu_id=-1,\n",
       "              importance_type='gain', interaction_constraints='',\n",
       "              learning_rate=0.300000012, max_delta_step=0, max_depth=6,\n",
       "              min_child_weight=1, missing=nan, monotone_constraints='()',\n",
       "              n_estimators=100, n_jobs=4, num_parallel_tree=1,\n",
       "              objective='multi:softprob', random_state=0, reg_alpha=0,\n",
       "              reg_lambda=1, scale_pos_weight=None, subsample=1,\n",
       "              tree_method='exact', validate_parameters=1, verbosity=None)"
      ]
     },
     "execution_count": 22,
     "metadata": {},
     "output_type": "execute_result"
    }
   ],
   "source": [
    "from xgboost import XGBClassifier\n",
    "xgb_classifier = XGBClassifier()\n",
    "xgb_classifier.fit(X_train, y_train.values.ravel())"
   ]
  },
  {
   "cell_type": "code",
   "execution_count": 23,
   "id": "first-combination",
   "metadata": {},
   "outputs": [
    {
     "name": "stdout",
     "output_type": "stream",
     "text": [
      "************************ Test ************************\n",
      "              precision    recall  f1-score   support\n",
      "\n",
      "     class 0       0.99      1.00      0.99       252\n",
      "     class 2       1.00      0.98      0.99       255\n",
      "     class 1       0.99      0.99      0.99       275\n",
      "     class 3       0.99      1.00      1.00       249\n",
      "\n",
      "    accuracy                           0.99      1031\n",
      "   macro avg       0.99      0.99      0.99      1031\n",
      "weighted avg       0.99      0.99      0.99      1031\n",
      "\n",
      "************************ Validation ************************\n",
      "              precision    recall  f1-score   support\n",
      "\n",
      "     class 0       0.96      1.00      0.98        71\n",
      "     class 2       0.99      0.98      0.99       153\n",
      "     class 1       0.99      0.98      0.98       122\n",
      "     class 3       0.98      0.99      0.98        97\n",
      "\n",
      "    accuracy                           0.98       443\n",
      "   macro avg       0.98      0.99      0.98       443\n",
      "weighted avg       0.98      0.98      0.98       443\n",
      "\n"
     ]
    }
   ],
   "source": [
    "print(\"************************ Test ************************\")\n",
    "y_pred = xgb_classifier.predict(X_test)\n",
    "class_report(y_test, y_pred)\n",
    "\n",
    "print(\"************************ Validation ************************\")\n",
    "y_val_pred = xgb_classifier.predict(X_val)\n",
    "class_report(y_val, y_val_pred)"
   ]
  },
  {
   "cell_type": "markdown",
   "id": "confident-story",
   "metadata": {},
   "source": [
    "## Saving Machine model to predict abnormal sound type"
   ]
  },
  {
   "cell_type": "code",
   "execution_count": 24,
   "id": "material-threat",
   "metadata": {},
   "outputs": [
    {
     "name": "stdout",
     "output_type": "stream",
     "text": [
      "0.98\n"
     ]
    }
   ],
   "source": [
    "filename = f'Predict_{machine_name}_abnormal_sound_type.sav'\n",
    "pickle.dump(xgb_classifier, open(f\"./{pickel_dir}/{filename}\", 'wb'))\n",
    "\n",
    "# load the model from disk\n",
    "loaded_model = pickle.load(open(f\"./{pickel_dir}/{filename}\", 'rb'))\n",
    "result = loaded_model.score(X_val, y_val)\n",
    "print(round(result,2))"
   ]
  }
 ],
 "metadata": {
  "kernelspec": {
   "display_name": "Python 3",
   "language": "python",
   "name": "python3"
  },
  "language_info": {
   "codemirror_mode": {
    "name": "ipython",
    "version": 3
   },
   "file_extension": ".py",
   "mimetype": "text/x-python",
   "name": "python",
   "nbconvert_exporter": "python",
   "pygments_lexer": "ipython3",
   "version": "3.8.8"
  }
 },
 "nbformat": 4,
 "nbformat_minor": 5
}
