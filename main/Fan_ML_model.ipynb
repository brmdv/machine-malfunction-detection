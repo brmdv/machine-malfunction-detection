{
 "cells": [
  {
   "cell_type": "code",
   "execution_count": 1,
   "id": "mental-count",
   "metadata": {},
   "outputs": [],
   "source": [
    "machine_name = \"fan\""
   ]
  },
  {
   "cell_type": "markdown",
   "id": "enormous-advice",
   "metadata": {},
   "source": [
    "# Import Libaries"
   ]
  },
  {
   "cell_type": "code",
   "execution_count": 2,
   "id": "several-voltage",
   "metadata": {},
   "outputs": [],
   "source": [
    "import numpy as np\n",
    "import pandas as pd\n",
    "import pickle\n",
    "import os\n",
    "import shutil\n",
    "import matplotlib.pyplot as plt"
   ]
  },
  {
   "cell_type": "markdown",
   "id": "adjacent-withdrawal",
   "metadata": {},
   "source": [
    "## Create directory management"
   ]
  },
  {
   "cell_type": "code",
   "execution_count": 3,
   "id": "preceding-affect",
   "metadata": {},
   "outputs": [],
   "source": [
    "# If dir not present creatre\n",
    "pickel_dir = \"saved_model\"\n",
    "if not os.path.exists(pickel_dir):\n",
    "    os.makedirs(pickel_dir)"
   ]
  },
  {
   "cell_type": "code",
   "execution_count": 4,
   "id": "covered-model",
   "metadata": {},
   "outputs": [],
   "source": [
    "from sklearn.metrics import classification_report\n",
    "\n",
    "def class_report(y_test, y_pred):\n",
    "    target_names = []\n",
    "    for i in y.unique():\n",
    "        target_names.append(f\"class {i}\")\n",
    "        \n",
    "    try:\n",
    "        y_true = y_test[0].tolist()\n",
    "        \n",
    "    except:\n",
    "        y_true = y_test.tolist()\n",
    "        \n",
    "    y_pred = y_pred.tolist()\n",
    "    print(classification_report(y_true, y_pred, target_names=target_names))"
   ]
  },
  {
   "cell_type": "markdown",
   "id": "daily-scotland",
   "metadata": {},
   "source": [
    "## Funnel feature"
   ]
  },
  {
   "cell_type": "code",
   "execution_count": 5,
   "id": "helpful-installation",
   "metadata": {},
   "outputs": [],
   "source": [
    "important_col =['is_normal', 'T_rms_mean', 'T_rms_std', 'T_zcr_mean',\n",
    "                       'F_mel_mean', 'F_mel_std', 'F_mel_rms_mean', 'F_mel_rms_std',\n",
    "                       'F_mfcc_mean', 'F_mfcc_std', 'F_flatness_mean',\n",
    "                       'F_bandwidth_mean', 'F_bandwidth_std', 'F_contrast_mean',\n",
    "                       'F_rolloff_mean', 'F_rolloff_std']\n",
    "\n",
    "dataset = pd.read_csv(f'./dataset/processed_data/{machine_name}_all.csv.xz')\n",
    "dataset = dataset[important_col]"
   ]
  },
  {
   "cell_type": "markdown",
   "id": "becoming-topic",
   "metadata": {},
   "source": [
    "## Split data"
   ]
  },
  {
   "cell_type": "code",
   "execution_count": 6,
   "id": "variable-cholesterol",
   "metadata": {},
   "outputs": [],
   "source": [
    "X = dataset.drop(\"is_normal\", axis=1)\n",
    "y = dataset[\"is_normal\"]\n",
    "\n",
    "from sklearn.model_selection import train_test_split\n",
    "\n",
    "X_model, X_val, y_model, y_val  = train_test_split(X, y, test_size=0.1, random_state=1)"
   ]
  },
  {
   "cell_type": "markdown",
   "id": "binding-union",
   "metadata": {},
   "source": [
    "## Resample over sample"
   ]
  },
  {
   "cell_type": "code",
   "execution_count": 7,
   "id": "similar-launch",
   "metadata": {},
   "outputs": [],
   "source": [
    "from imblearn.over_sampling import BorderlineSMOTE\n",
    "X_resample, y_resample = BorderlineSMOTE().fit_resample(X_model, y_model.ravel())\n",
    "\n",
    "y_resample = pd.DataFrame(y_resample)\n",
    "X_resample = pd.DataFrame(X_resample)\n",
    "\n",
    "from sklearn.model_selection import train_test_split\n",
    "X_train, X_test, y_train, y_test = train_test_split(X_resample, y_resample, test_size=0.2, random_state=1)"
   ]
  },
  {
   "cell_type": "markdown",
   "id": "systematic-privacy",
   "metadata": {},
   "source": [
    "## Random Forest Estimator 100"
   ]
  },
  {
   "cell_type": "code",
   "execution_count": 8,
   "id": "animated-terrorist",
   "metadata": {},
   "outputs": [],
   "source": [
    "import warnings\n",
    "warnings.simplefilter(action='ignore', category=UserWarning)"
   ]
  },
  {
   "cell_type": "code",
   "execution_count": 9,
   "id": "engaged-sucking",
   "metadata": {},
   "outputs": [
    {
     "data": {
      "text/plain": [
       "RandomForestClassifier(criterion='entropy', random_state=0)"
      ]
     },
     "execution_count": 9,
     "metadata": {},
     "output_type": "execute_result"
    }
   ],
   "source": [
    "from sklearn.ensemble import RandomForestClassifier\n",
    "\n",
    "no_estimators = 100\n",
    "\n",
    "RF_classifier = RandomForestClassifier(random_state = 0, n_estimators = no_estimators, criterion = 'entropy')\n",
    "RF_classifier.fit(X_train, y_train.values.ravel())"
   ]
  },
  {
   "cell_type": "code",
   "execution_count": 10,
   "id": "returning-surface",
   "metadata": {
    "scrolled": false
   },
   "outputs": [
    {
     "name": "stdout",
     "output_type": "stream",
     "text": [
      "************************  Test ************************\n",
      "              precision    recall  f1-score   support\n",
      "\n",
      "     class 0       0.93      0.93      0.93      2198\n",
      "     class 1       0.93      0.93      0.93      2203\n",
      "\n",
      "    accuracy                           0.93      4401\n",
      "   macro avg       0.93      0.93      0.93      4401\n",
      "weighted avg       0.93      0.93      0.93      4401\n",
      "\n",
      "************************  Validation ************************\n",
      "              precision    recall  f1-score   support\n",
      "\n",
      "     class 0       0.84      0.89      0.87       441\n",
      "     class 1       0.96      0.94      0.95      1224\n",
      "\n",
      "    accuracy                           0.93      1665\n",
      "   macro avg       0.90      0.92      0.91      1665\n",
      "weighted avg       0.93      0.93      0.93      1665\n",
      "\n"
     ]
    }
   ],
   "source": [
    "from sklearn.metrics import classification_report\n",
    "\n",
    "print(\"************************  Test ************************\")\n",
    "y_pred = RF_classifier.predict(X_test)\n",
    "class_report(y_test, y_pred)\n",
    "\n",
    "print(\"************************  Validation ************************\")\n",
    "y_valid_pred = RF_classifier.predict(X_val)\n",
    "class_report(y_val, y_valid_pred)"
   ]
  },
  {
   "cell_type": "markdown",
   "id": "fifty-renewal",
   "metadata": {},
   "source": [
    "## Saving Machine model to predict abnormal or normal sound"
   ]
  },
  {
   "cell_type": "code",
   "execution_count": 11,
   "id": "macro-antibody",
   "metadata": {},
   "outputs": [
    {
     "name": "stdout",
     "output_type": "stream",
     "text": [
      "0.93\n"
     ]
    }
   ],
   "source": [
    "filename = f'Predict_{machine_name}_sound_type.sav'\n",
    "pickle.dump(RF_classifier, open(f\"./{pickel_dir}/{filename}\", 'wb'))\n",
    "\n",
    "# load the model from disk\n",
    "loaded_model = pickle.load(open(f\"./{pickel_dir}/{filename}\", 'rb'))\n",
    "result = loaded_model.score(X_val, y_val)\n",
    "print(round(result,2))"
   ]
  },
  {
   "cell_type": "markdown",
   "id": "russian-daisy",
   "metadata": {},
   "source": [
    "# "
   ]
  },
  {
   "cell_type": "markdown",
   "id": "induced-catholic",
   "metadata": {},
   "source": [
    "## K-mean clustering\n",
    "* Sub catogorize abnormal dataset."
   ]
  },
  {
   "cell_type": "markdown",
   "id": "distributed-airplane",
   "metadata": {
    "colab_type": "text",
    "id": "nWC2EWp2Lx5G"
   },
   "source": [
    "## Using the elbow method to find the optimal number of clusters"
   ]
  },
  {
   "cell_type": "code",
   "execution_count": 12,
   "id": "ordinary-peninsula",
   "metadata": {},
   "outputs": [],
   "source": [
    "cluster_dataset = pd.read_csv(f'./dataset/processed_data/{machine_name}_all.csv.xz')\n",
    "cluster_dataset = cluster_dataset[important_col]\n",
    "abnormal_dataset = cluster_dataset[cluster_dataset.is_normal == 0]\n",
    "dataset = abnormal_dataset.drop(columns=[\"is_normal\"])"
   ]
  },
  {
   "cell_type": "code",
   "execution_count": 13,
   "id": "overall-intervention",
   "metadata": {
    "colab": {
     "base_uri": "https://localhost:8080/",
     "height": 295
    },
    "colab_type": "code",
    "executionInfo": {
     "elapsed": 1431,
     "status": "ok",
     "timestamp": 1588239707642,
     "user": {
      "displayName": "Hadelin de Ponteves",
      "photoUrl": "https://lh3.googleusercontent.com/a-/AOh14GhEuXdT7eQweUmRPW8_laJuPggSK6hfvpl5a6WBaA=s64",
      "userId": "15047218817161520419"
     },
     "user_tz": -240
    },
    "id": "zWs6ciOoL1b3",
    "outputId": "bd3740ef-650e-4ae3-da64-821d7df9c7d0",
    "scrolled": true
   },
   "outputs": [
    {
     "data": {
      "image/png": "[encoded data removed]",
      "text/plain": [
       "<Figure size 432x288 with 1 Axes>"
      ]
     },
     "metadata": {
      "needs_background": "light"
     },
     "output_type": "display_data"
    }
   ],
   "source": [
    "from sklearn.cluster import KMeans\n",
    "wcss = []\n",
    "random_S = 0\n",
    "total_test = 20\n",
    "for i in range(1, total_test):\n",
    "    kmeans = KMeans(n_clusters = i, init = 'k-means++', random_state = random_S)\n",
    "    kmeans.fit(dataset)\n",
    "    wcss.append(kmeans.inertia_)\n",
    "plt.plot(range(1, total_test), wcss)\n",
    "plt.title('The Elbow Method')\n",
    "plt.xlabel('Number of clusters')\n",
    "plt.ylabel('WCSS');"
   ]
  },
  {
   "cell_type": "markdown",
   "id": "mounted-whale",
   "metadata": {
    "colab_type": "text",
    "id": "VgT0mANLL4Nz"
   },
   "source": [
    "## Training the K-Means model on the dataset"
   ]
  },
  {
   "cell_type": "code",
   "execution_count": 14,
   "id": "amazing-korea",
   "metadata": {
    "colab": {},
    "colab_type": "code",
    "id": "cjEfU6ZSMAPl"
   },
   "outputs": [],
   "source": [
    "no_cluster = 4\n",
    "kmeans = KMeans(n_clusters = no_cluster, init = 'k-means++', random_state = random_S)\n",
    "y_kmeans = kmeans.fit_predict(dataset)"
   ]
  },
  {
   "cell_type": "markdown",
   "id": "confident-story",
   "metadata": {},
   "source": [
    "## Saving Machine model to predict abnormal sound type"
   ]
  },
  {
   "cell_type": "code",
   "execution_count": 15,
   "id": "material-threat",
   "metadata": {},
   "outputs": [],
   "source": [
    "filename = f'Predict_{machine_name}_abnormal_sound_type.sav'\n",
    "pickle.dump(kmeans, open(f\"./{pickel_dir}/{filename}\", 'wb'))\n",
    "\n",
    "# load the model from disk\n",
    "loaded_model = pickle.load(open(f\"./{pickel_dir}/{filename}\", 'rb'))"
   ]
  }
 ],
 "metadata": {
  "kernelspec": {
   "display_name": "Python 3",
   "language": "python",
   "name": "python3"
  },
  "language_info": {
   "codemirror_mode": {
    "name": "ipython",
    "version": 3
   },
   "file_extension": ".py",
   "mimetype": "text/x-python",
   "name": "python",
   "nbconvert_exporter": "python",
   "pygments_lexer": "ipython3",
   "version": "3.8.8"
  }
 },
 "nbformat": 4,
 "nbformat_minor": 5
}
